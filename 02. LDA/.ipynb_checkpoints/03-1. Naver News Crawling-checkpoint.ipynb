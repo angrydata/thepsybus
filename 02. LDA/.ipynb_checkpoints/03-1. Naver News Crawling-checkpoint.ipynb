{
 "cells": [
  {
   "cell_type": "markdown",
   "metadata": {
    "deletable": true,
    "editable": true
   },
   "source": [
    "### 네이버 뉴스 속보탭의 기사 본문들 가져오기"
   ]
  },
  {
   "cell_type": "code",
   "execution_count": 3,
   "metadata": {
    "collapsed": true,
    "deletable": true,
    "editable": true
   },
   "outputs": [],
   "source": [
    "from bs4 import BeautifulSoup\n",
    "import urllib.request"
   ]
  },
  {
   "cell_type": "markdown",
   "metadata": {
    "deletable": true,
    "editable": true
   },
   "source": [
    "전체속보 : http://news.naver.com/main/list.nhn?sid1=001&mid=sec&mode=LSD&date=20170407&page=1"
   ]
  },
  {
   "cell_type": "code",
   "execution_count": 4,
   "metadata": {
    "collapsed": true,
    "deletable": true,
    "editable": true
   },
   "outputs": [],
   "source": [
    "OUTPUT_FILE_NAME = 'output.txt'\n",
    "URL = 'http://news.naver.com/main/list.nhn?sid1=001&mid=sec&mode=LSD&date=20170407&page=1'"
   ]
  },
  {
   "cell_type": "code",
   "execution_count": 5,
   "metadata": {
    "collapsed": true,
    "deletable": true,
    "editable": true
   },
   "outputs": [],
   "source": [
    "source_code_from_URL = urllib.request.urlopen(URL)"
   ]
  },
  {
   "cell_type": "code",
   "execution_count": 6,
   "metadata": {
    "collapsed": true,
    "deletable": true,
    "editable": true
   },
   "outputs": [],
   "source": [
    "soup = BeautifulSoup(source_code_from_URL, 'lxml', from_encoding='utf-8')"
   ]
  },
  {
   "cell_type": "code",
   "execution_count": 7,
   "metadata": {
    "collapsed": false,
    "deletable": true,
    "editable": true,
    "scrolled": false
   },
   "outputs": [
    {
     "name": "stdout",
     "output_type": "stream",
     "text": [
      "http://news.naver.com/main/read.nhn?mode=LSD&mid=sec&sid1=001&oid=396&aid=0000436906\n",
      "http://news.naver.com/main/read.nhn?mode=LSD&mid=sec&sid1=001&oid=396&aid=0000436906\n",
      "http://news.naver.com/main/read.nhn?mode=LSD&mid=sec&sid1=001&oid=077&aid=0003435433\n",
      "http://news.naver.com/main/read.nhn?mode=LSD&mid=sec&sid1=001&oid=077&aid=0003435433\n",
      "http://news.naver.com/main/read.nhn?mode=LSD&mid=sec&sid1=001&oid=077&aid=0003435432\n",
      "http://news.naver.com/main/read.nhn?mode=LSD&mid=sec&sid1=001&oid=077&aid=0003435432\n",
      "http://news.naver.com/main/read.nhn?mode=LSD&mid=sec&sid1=001&oid=215&aid=0000541314\n",
      "http://news.naver.com/main/read.nhn?mode=LSD&mid=sec&sid1=001&oid=215&aid=0000541314\n",
      "http://news.naver.com/main/read.nhn?mode=LSD&mid=sec&sid1=001&oid=077&aid=0003435431\n",
      "http://news.naver.com/main/read.nhn?mode=LSD&mid=sec&sid1=001&oid=077&aid=0003435431\n",
      "http://news.naver.com/main/read.nhn?mode=LSD&mid=sec&sid1=001&oid=109&aid=0003512758\n",
      "http://news.naver.com/main/read.nhn?mode=LSD&mid=sec&sid1=001&oid=109&aid=0003512758\n",
      "http://news.naver.com/main/read.nhn?mode=LSD&mid=sec&sid1=001&oid=020&aid=0003056260\n",
      "http://news.naver.com/main/read.nhn?mode=LSD&mid=sec&sid1=001&oid=020&aid=0003056260\n",
      "http://news.naver.com/main/read.nhn?mode=LSD&mid=sec&sid1=001&oid=382&aid=0000555372\n",
      "http://news.naver.com/main/read.nhn?mode=LSD&mid=sec&sid1=001&oid=382&aid=0000555372\n",
      "http://news.naver.com/main/read.nhn?mode=LSD&mid=sec&sid1=001&oid=015&aid=0003752795\n",
      "http://news.naver.com/main/read.nhn?mode=LSD&mid=sec&sid1=001&oid=015&aid=0003752795\n",
      "http://news.naver.com/main/read.nhn?mode=LSD&mid=sec&sid1=001&oid=011&aid=0003010299\n",
      "http://news.naver.com/main/read.nhn?mode=LSD&mid=sec&sid1=001&oid=011&aid=0003010299\n",
      "http://news.naver.com/main/read.nhn?mode=LSD&mid=sec&sid1=001&oid=014&aid=0003800193\n",
      "http://news.naver.com/main/read.nhn?mode=LSD&mid=sec&sid1=001&oid=014&aid=0003800193\n",
      "http://news.naver.com/main/read.nhn?mode=LSD&mid=sec&sid1=001&oid=003&aid=0007878279\n",
      "http://news.naver.com/main/read.nhn?mode=LSD&mid=sec&sid1=001&oid=003&aid=0007878279\n",
      "http://news.naver.com/main/read.nhn?mode=LSD&mid=sec&sid1=001&oid=312&aid=0000250648\n",
      "http://news.naver.com/main/read.nhn?mode=LSD&mid=sec&sid1=001&oid=312&aid=0000250648\n",
      "http://news.naver.com/main/read.nhn?mode=LSD&mid=sec&sid1=001&oid=003&aid=0007878278\n",
      "http://news.naver.com/main/read.nhn?mode=LSD&mid=sec&sid1=001&oid=003&aid=0007878278\n",
      "http://news.naver.com/main/read.nhn?mode=LSD&mid=sec&sid1=001&oid=312&aid=0000250647\n",
      "http://news.naver.com/main/read.nhn?mode=LSD&mid=sec&sid1=001&oid=312&aid=0000250647\n",
      "http://news.naver.com/main/read.nhn?mode=LSD&mid=sec&sid1=001&oid=003&aid=0007878277\n",
      "http://news.naver.com/main/read.nhn?mode=LSD&mid=sec&sid1=001&oid=003&aid=0007878277\n",
      "http://news.naver.com/main/read.nhn?mode=LSD&mid=sec&sid1=001&oid=001&aid=0009171827\n",
      "http://news.naver.com/main/read.nhn?mode=LSD&mid=sec&sid1=001&oid=001&aid=0009171827\n",
      "http://news.naver.com/main/read.nhn?mode=LSD&mid=sec&sid1=001&oid=003&aid=0007878276\n",
      "http://news.naver.com/main/read.nhn?mode=LSD&mid=sec&sid1=001&oid=003&aid=0007878276\n",
      "http://news.naver.com/main/read.nhn?mode=LSD&mid=sec&sid1=001&oid=404&aid=0000172718\n",
      "http://news.naver.com/main/read.nhn?mode=LSD&mid=sec&sid1=001&oid=404&aid=0000172718\n",
      "http://news.naver.com/main/read.nhn?mode=LSD&mid=sec&sid1=001&oid=236&aid=0000155763\n",
      "http://news.naver.com/main/read.nhn?mode=LSD&mid=sec&sid1=001&oid=236&aid=0000155763\n"
     ]
    }
   ],
   "source": [
    "for item in soup.findAll('a', {'class':'nclicks(fls.list)'}):\n",
    "    print(item.get('href'))"
   ]
  },
  {
   "cell_type": "markdown",
   "metadata": {
    "deletable": true,
    "editable": true
   },
   "source": [
    "사회 - 사회일반 : http://news.naver.com/main/list.nhn?sid2=257&sid1=102&mid=shm&mode=LS2D&date=20170407&page=1\n",
    "\n",
    "IT/과학 - IT 일반 : http://news.naver.com/main/list.nhn?sid2=230&sid1=105&mid=shm&mode=LS2D&date=20170407&page=1\n",
    "\n",
    "LDA의 테스트를 위해 2개의 섹션에서 기사를 가지고 오고 싶었지만, 사회 - 사회일반에서 nclicks(fls.list)가 존재하지 않음..."
   ]
  },
  {
   "cell_type": "code",
   "execution_count": 8,
   "metadata": {
    "collapsed": true,
    "deletable": true,
    "editable": true
   },
   "outputs": [],
   "source": [
    "URL = 'http://news.naver.com/main/list.nhn?sid2=257&sid1=102&mid=shm&mode=LS2D&date=20170407&page=1'"
   ]
  },
  {
   "cell_type": "code",
   "execution_count": 9,
   "metadata": {
    "collapsed": false,
    "deletable": true,
    "editable": true
   },
   "outputs": [],
   "source": [
    "source_code_from_URL = urllib.request.urlopen(URL)\n",
    "soup = BeautifulSoup(source_code_from_URL, 'lxml', from_encoding='utf-8')"
   ]
  },
  {
   "cell_type": "code",
   "execution_count": 10,
   "metadata": {
    "collapsed": false
   },
   "outputs": [
    {
     "name": "stdout",
     "output_type": "stream",
     "text": [
      "http://news.naver.com/main/read.nhn?mode=LS2D&mid=shm&sid1=102&sid2=257&oid=003&aid=0007878279\n",
      "http://news.naver.com/main/read.nhn?mode=LS2D&mid=shm&sid1=102&sid2=257&oid=003&aid=0007878278\n",
      "http://news.naver.com/main/read.nhn?mode=LS2D&mid=shm&sid1=102&sid2=257&oid=003&aid=0007878277\n",
      "http://news.naver.com/main/read.nhn?mode=LS2D&mid=shm&sid1=102&sid2=257&oid=469&aid=0000196984\n",
      "http://news.naver.com/main/read.nhn?mode=LS2D&mid=shm&sid1=102&sid2=257&oid=011&aid=0003010298\n",
      "http://news.naver.com/main/read.nhn?mode=LS2D&mid=shm&sid1=102&sid2=257&oid=001&aid=0009171823\n",
      "http://news.naver.com/main/read.nhn?mode=LS2D&mid=shm&sid1=102&sid2=257&oid=003&aid=0007878272\n",
      "http://news.naver.com/main/read.nhn?mode=LS2D&mid=shm&sid1=102&sid2=257&oid=025&aid=0002703043\n",
      "http://news.naver.com/main/read.nhn?mode=LS2D&mid=shm&sid1=102&sid2=257&oid=421&aid=0002659827\n",
      "http://news.naver.com/main/read.nhn?mode=LS2D&mid=shm&sid1=102&sid2=257&oid=003&aid=0007878270\n",
      "http://news.naver.com/main/read.nhn?mode=LS2D&mid=shm&sid1=102&sid2=257&oid=003&aid=0007878267\n",
      "http://news.naver.com/main/read.nhn?mode=LS2D&mid=shm&sid1=102&sid2=257&oid=003&aid=0007878266\n",
      "http://news.naver.com/main/read.nhn?mode=LS2D&mid=shm&sid1=102&sid2=257&oid=421&aid=0002659824\n",
      "http://news.naver.com/main/read.nhn?mode=LS2D&mid=shm&sid1=102&sid2=257&oid=421&aid=0002659825\n",
      "http://news.naver.com/main/read.nhn?mode=LS2D&mid=shm&sid1=102&sid2=257&oid=421&aid=0002659822\n",
      "http://news.naver.com/main/read.nhn?mode=LS2D&mid=shm&sid1=102&sid2=257&oid=421&aid=0002659823\n",
      "http://news.naver.com/main/read.nhn?mode=LS2D&mid=shm&sid1=102&sid2=257&oid=421&aid=0002659820\n",
      "http://news.naver.com/main/read.nhn?mode=LS2D&mid=shm&sid1=102&sid2=257&oid=421&aid=0002659821\n",
      "http://news.naver.com/main/read.nhn?mode=LS2D&mid=shm&sid1=102&sid2=257&oid=421&aid=0002659819\n"
     ]
    }
   ],
   "source": [
    "for item in soup.findAll('dt', {'class':'photo'}):\n",
    "    print(item.find('a').get('href'))"
   ]
  },
  {
   "cell_type": "code",
   "execution_count": 11,
   "metadata": {
    "collapsed": true
   },
   "outputs": [],
   "source": [
    "for item in soup.findAll('dt', {'class':'photo'}):\n",
    "    s = BeautifulSoup(urllib.request.urlopen(item.find('a').get('href')), 'lxml', from_encoding='utf-8')\n",
    "    text = ''\n",
    "    \n",
    "    for i in s.find_all('div', id='articleBodyContents'):\n",
    "        text = str(i.find_all(text=True))\n",
    "    \n",
    "    with open(OUTPUT_FILE_NAME, 'a') as f:\n",
    "        f.write(text)"
   ]
  },
  {
   "cell_type": "code",
   "execution_count": null,
   "metadata": {
    "collapsed": true
   },
   "outputs": [],
   "source": []
  },
  {
   "cell_type": "code",
   "execution_count": 12,
   "metadata": {
    "collapsed": true
   },
   "outputs": [],
   "source": [
    "source_code_from_URL = urllib.request.urlopen('http://news.naver.com/main/read.nhn?mode=LS2D&mid=shm&sid1=102&sid2=257&oid=003&aid=0007878278')"
   ]
  },
  {
   "cell_type": "code",
   "execution_count": 13,
   "metadata": {
    "collapsed": true
   },
   "outputs": [],
   "source": [
    "s = BeautifulSoup(source_code_from_URL, 'lxml', from_encoding='utf-8')"
   ]
  },
  {
   "cell_type": "code",
   "execution_count": 14,
   "metadata": {
    "collapsed": false
   },
   "outputs": [
    {
     "data": {
      "text/plain": [
       "[<div id=\"articleBodyContents\">\n",
       " <!-- 본문 내용 -->\n",
       " <!-- TV플레이어 -->\n",
       " <!-- // TV플레이어 -->\n",
       " <script type=\"text/javascript\">\n",
       " // flash 오류를 우회하기 위한 함수 추가\n",
       " function _flash_removeCallback() {}\n",
       " </script>\n",
       " <span class=\"end_photo_org\"><img src=\"http://imgnews.naver.net/image/003/2017/04/07/NISI20170407_0012874074_web_20170407173805579.jpg?type=w540\"/><em class=\"img_desc\">【대전=뉴시스】김양수 기자 = 7일 서울 동대문구에 위치한 국립산림과학원에서 '산림청 50년사 발간 기념식'이 열린 가운데 참석자들이 기념식수를 하고 있다.2017.04.07(사진=산림청 제공)   photo@newsis.com</em></span><br/><br/>【대전=뉴시스】김양수 기자 = 개청 50주년을 맞은 산림청의 역사와 성과를 담은 책자가 발간됐다.<br/><br/> 산림청은 7일 서울 동대문구에 위치한 국립산림과학원에서 '산림청 50년사 발간 기념식'을 가졌다고 밝혔다.<br/><br/> 산림청 50년사는 총 2권으로 150여명의 편찬위원과 전문가들의 감수·자문 등 1년여 간의 노력 끝에 완성됐다.<br/><br/> 이 책에는 국민과 함께 이룬 산림녹화 기록과 산림청 역사가 정리돼 있으며 관련 정책 및 연구·성과 등도 담겨있다.<br/><br/> 역대 산림청장들과 직원, 50년사 편찬위원, 임우회 회원 등 200여 명이 참석한 이날 기념식은 ▲산림청 50년 회고영상 ▲발간 경과 보고 ▲편찬위원 소회 발표 ▲책자 전달식 ▲역대 청장 축사 ▲기념식수 순으로 진행됐다.<br/><br/> 특히 이날 행사에서는 산림청이 개청하던 지난 1967년 임용된 산림청 퇴직 공무원들이 올해 임용된 새내기 후배 공무원들에게 금강송 묘목을 전달해 의미를 더했고 산림청의 50년을 돌아보고 새로운 50년을 시작하는 의미로 '구상나무 식재행사'도 열렸다.<br/><br/> 구상나무는 우리나라에 자생하는 고유수종으로 올해로 발견 100주년이 됐다.<br/><br/> 산림청은 책자로 나온 산림청 50년사를 지방자치단체, 국립·대학 도서관 등 관계기관에 배포하고 누리집에도 게시해 국민들이 쉽게 접하고 활용할 수 있도록 할 계획이다.<br/><br/> 신원섭 산림청장은 \"산림청 50년사는 국민 모두의 노력과 땀으로 쓴 한국의 산림 역사\"라며 \"산림녹화 성공국 성과에 만족하지 않고 신기후변화 체제에 적극 대응, 산림의 가치를 높이고 산림을 통해 국민이 더 행복할 수 있도록 노력하겠다\"고 말했다. <br/><br/>  kys0505@newsis.com<br/><br/><a href=\"http://newsstand.naver.com/?pcode=003&amp;list=ct1\" target=\"_blank\">뉴시스 뉴스, 네이버 뉴스 스탠드에서도 만나세요</a><br/>뉴시스 SNS <a href=\"https://www.facebook.com/newsis.news?sk=wall\" target=\"_blank\">[페이스북]</a> <a href=\"https://twitter.com/newsis\" target=\"_blank\">[트위터]</a><br/><br/><br/>\n",
       " <!-- // 본문 내용 -->\n",
       " </div>]"
      ]
     },
     "execution_count": 14,
     "metadata": {},
     "output_type": "execute_result"
    }
   ],
   "source": [
    "s.find_all('div', id='articleBodyContents')"
   ]
  },
  {
   "cell_type": "code",
   "execution_count": null,
   "metadata": {
    "collapsed": true
   },
   "outputs": [],
   "source": []
  }
 ],
 "metadata": {
  "kernelspec": {
   "display_name": "Python 3",
   "language": "python",
   "name": "python3"
  },
  "language_info": {
   "codemirror_mode": {
    "name": "ipython",
    "version": 3
   },
   "file_extension": ".py",
   "mimetype": "text/x-python",
   "name": "python",
   "nbconvert_exporter": "python",
   "pygments_lexer": "ipython3",
   "version": "3.5.2"
  }
 },
 "nbformat": 4,
 "nbformat_minor": 2
}
